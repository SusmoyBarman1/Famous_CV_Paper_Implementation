{
 "cells": [
  {
   "cell_type": "code",
   "execution_count": 1,
   "metadata": {},
   "outputs": [],
   "source": [
    "import numpy as np\n",
    "import pandas as pd\n",
    "import matplotlib.pyplot as plt\n",
    "import os"
   ]
  },
  {
   "cell_type": "code",
   "execution_count": 2,
   "metadata": {},
   "outputs": [
    {
     "name": "stdout",
     "output_type": "stream",
     "text": [
      "['clean', 'messy']\n",
      "Types of room: 2\n"
     ]
    }
   ],
   "source": [
    "data_dir = 'data/train'\n",
    "\n",
    "room_types = os.listdir(data_dir)\n",
    "print(room_types)\n",
    "print('Types of room:', len(room_types))"
   ]
  },
  {
   "cell_type": "code",
   "execution_count": 3,
   "metadata": {},
   "outputs": [],
   "source": [
    "rooms = []\n",
    "\n",
    "for types in room_types:\n",
    "    #print(f'\\nWorking on {types} directory....\\n')\n",
    "    all_rooms = os.listdir(data_dir + '/' + types)\n",
    "    \n",
    "    for room in all_rooms:\n",
    "        pic_name = str(data_dir+ '/' + types) + '/' + room\n",
    "        #print(f'Photo is:- {pic_name}')\n",
    "        rooms.append((types, pic_name))\n",
    "\n",
    "#rooms"
   ]
  },
  {
   "cell_type": "code",
   "execution_count": 4,
   "metadata": {},
   "outputs": [
    {
     "name": "stdout",
     "output_type": "stream",
     "text": [
      "192\n"
     ]
    }
   ],
   "source": [
    "print(len(rooms))"
   ]
  },
  {
   "cell_type": "code",
   "execution_count": 5,
   "metadata": {},
   "outputs": [
    {
     "name": "stdout",
     "output_type": "stream",
     "text": [
      "  room_type                    image\n",
      "0     clean   data/train/clean/0.png\n",
      "1     clean   data/train/clean/1.png\n",
      "2     clean  data/train/clean/10.png\n",
      "3     clean  data/train/clean/11.png\n",
      "4     clean  data/train/clean/12.png\n",
      "\n",
      "\n",
      "    room_type                    image\n",
      "187     messy  data/train/messy/91.png\n",
      "188     messy  data/train/messy/92.png\n",
      "189     messy  data/train/messy/93.png\n",
      "190     messy  data/train/messy/94.png\n",
      "191     messy  data/train/messy/95.png\n"
     ]
    }
   ],
   "source": [
    "# Build a dataframe\n",
    "\n",
    "rooms_df = pd.DataFrame(data = rooms, columns=['room_type', 'image'])\n",
    "print(rooms_df.head())\n",
    "print('\\n')\n",
    "print(rooms_df.tail())"
   ]
  },
  {
   "cell_type": "code",
   "execution_count": 44,
   "metadata": {},
   "outputs": [
    {
     "name": "stdout",
     "output_type": "stream",
     "text": [
      "\n",
      "Total number of rooms: 192 \n",
      "\n",
      "\n",
      "Rooms in each Category:-\n",
      "\n",
      "clean    96\n",
      "messy    96\n",
      "Name: room_type, dtype: int64\n"
     ]
    }
   ],
   "source": [
    "# Recheck data size\n",
    "print(f'\\nTotal number of rooms: {len(rooms_df)} \\n')\n",
    "\n",
    "room_count = rooms_df['room_type'].value_counts()\n",
    "\n",
    "print('\\nRooms in each Category:-\\n')\n",
    "print(room_count)"
   ]
  },
  {
   "cell_type": "code",
   "execution_count": 7,
   "metadata": {},
   "outputs": [],
   "source": [
    "import cv2"
   ]
  },
  {
   "cell_type": "code",
   "execution_count": 57,
   "metadata": {},
   "outputs": [
    {
     "data": {
      "text/plain": [
       "array([0., 0.])"
      ]
     },
     "execution_count": 57,
     "metadata": {},
     "output_type": "execute_result"
    }
   ],
   "source": [
    "total_room = len(rooms_df)\n",
    "classes = len(room_types)\n",
    "#print(f'({total_room}, {classes})')\n",
    "\n",
    "lb = np.zeros(classes)\n",
    "lb"
   ]
  },
  {
   "cell_type": "code",
   "execution_count": 66,
   "metadata": {},
   "outputs": [
    {
     "name": "stdout",
     "output_type": "stream",
     "text": [
      "[1 0] count: 0\n",
      "[1 0] count: 0\n",
      "[1 0] count: 0\n",
      "[1 0] count: 0\n",
      "[1 0] count: 0\n",
      "[1 0] count: 0\n",
      "[1 0] count: 0\n",
      "[1 0] count: 0\n",
      "[1 0] count: 0\n",
      "[1 0] count: 0\n",
      "[1 0] count: 0\n",
      "[1 0] count: 0\n",
      "[1 0] count: 0\n",
      "[1 0] count: 0\n",
      "[1 0] count: 0\n",
      "[1 0] count: 0\n",
      "[1 0] count: 0\n",
      "[1 0] count: 0\n",
      "[1 0] count: 0\n",
      "[1 0] count: 0\n",
      "[1 0] count: 0\n",
      "[1 0] count: 0\n",
      "[1 0] count: 0\n",
      "[1 0] count: 0\n",
      "[1 0] count: 0\n",
      "[1 0] count: 0\n",
      "[1 0] count: 0\n",
      "[1 0] count: 0\n",
      "[1 0] count: 0\n",
      "[1 0] count: 0\n",
      "[1 0] count: 0\n",
      "[1 0] count: 0\n",
      "[1 0] count: 0\n",
      "[1 0] count: 0\n",
      "[1 0] count: 0\n",
      "[1 0] count: 0\n",
      "[1 0] count: 0\n",
      "[1 0] count: 0\n",
      "[1 0] count: 0\n",
      "[1 0] count: 0\n",
      "[1 0] count: 0\n",
      "[1 0] count: 0\n",
      "[1 0] count: 0\n",
      "[1 0] count: 0\n",
      "[1 0] count: 0\n",
      "[1 0] count: 0\n",
      "[1 0] count: 0\n",
      "[1 0] count: 0\n",
      "[1 0] count: 0\n",
      "[1 0] count: 0\n",
      "[1 0] count: 0\n",
      "[1 0] count: 0\n",
      "[1 0] count: 0\n",
      "[1 0] count: 0\n",
      "[1 0] count: 0\n",
      "[1 0] count: 0\n",
      "[1 0] count: 0\n",
      "[1 0] count: 0\n",
      "[1 0] count: 0\n",
      "[1 0] count: 0\n",
      "[1 0] count: 0\n",
      "[1 0] count: 0\n",
      "[1 0] count: 0\n",
      "[1 0] count: 0\n",
      "[1 0] count: 0\n",
      "[1 0] count: 0\n",
      "[1 0] count: 0\n",
      "[1 0] count: 0\n",
      "[1 0] count: 0\n",
      "[1 0] count: 0\n",
      "[1 0] count: 0\n",
      "[1 0] count: 0\n",
      "[1 0] count: 0\n",
      "[1 0] count: 0\n",
      "[1 0] count: 0\n",
      "[1 0] count: 0\n",
      "[1 0] count: 0\n",
      "[1 0] count: 0\n",
      "[1 0] count: 0\n",
      "[1 0] count: 0\n",
      "[1 0] count: 0\n",
      "[1 0] count: 0\n",
      "[1 0] count: 0\n",
      "[1 0] count: 0\n",
      "[1 0] count: 0\n",
      "[1 0] count: 0\n",
      "[1 0] count: 0\n",
      "[1 0] count: 0\n",
      "[1 0] count: 0\n",
      "[1 0] count: 0\n",
      "[1 0] count: 0\n",
      "[1 0] count: 0\n",
      "[1 0] count: 0\n",
      "[1 0] count: 0\n",
      "[1 0] count: 0\n",
      "[1 0] count: 0\n",
      "[0 1] count: 1\n",
      "[0 1] count: 1\n",
      "[0 1] count: 1\n",
      "[0 1] count: 1\n",
      "[0 1] count: 1\n",
      "[0 1] count: 1\n",
      "[0 1] count: 1\n",
      "[0 1] count: 1\n",
      "[0 1] count: 1\n",
      "[0 1] count: 1\n",
      "[0 1] count: 1\n",
      "[0 1] count: 1\n",
      "[0 1] count: 1\n",
      "[0 1] count: 1\n",
      "[0 1] count: 1\n",
      "[0 1] count: 1\n",
      "[0 1] count: 1\n",
      "[0 1] count: 1\n",
      "[0 1] count: 1\n",
      "[0 1] count: 1\n",
      "[0 1] count: 1\n",
      "[0 1] count: 1\n",
      "[0 1] count: 1\n",
      "[0 1] count: 1\n",
      "[0 1] count: 1\n",
      "[0 1] count: 1\n",
      "[0 1] count: 1\n",
      "[0 1] count: 1\n",
      "[0 1] count: 1\n",
      "[0 1] count: 1\n",
      "[0 1] count: 1\n",
      "[0 1] count: 1\n",
      "[0 1] count: 1\n",
      "[0 1] count: 1\n",
      "[0 1] count: 1\n",
      "[0 1] count: 1\n",
      "[0 1] count: 1\n",
      "[0 1] count: 1\n",
      "[0 1] count: 1\n",
      "[0 1] count: 1\n",
      "[0 1] count: 1\n",
      "[0 1] count: 1\n",
      "[0 1] count: 1\n",
      "[0 1] count: 1\n",
      "[0 1] count: 1\n",
      "[0 1] count: 1\n",
      "[0 1] count: 1\n",
      "[0 1] count: 1\n",
      "[0 1] count: 1\n",
      "[0 1] count: 1\n",
      "[0 1] count: 1\n",
      "[0 1] count: 1\n",
      "[0 1] count: 1\n",
      "[0 1] count: 1\n",
      "[0 1] count: 1\n",
      "[0 1] count: 1\n",
      "[0 1] count: 1\n",
      "[0 1] count: 1\n",
      "[0 1] count: 1\n",
      "[0 1] count: 1\n",
      "[0 1] count: 1\n",
      "[0 1] count: 1\n",
      "[0 1] count: 1\n",
      "[0 1] count: 1\n",
      "[0 1] count: 1\n",
      "[0 1] count: 1\n",
      "[0 1] count: 1\n",
      "[0 1] count: 1\n",
      "[0 1] count: 1\n",
      "[0 1] count: 1\n",
      "[0 1] count: 1\n",
      "[0 1] count: 1\n",
      "[0 1] count: 1\n",
      "[0 1] count: 1\n",
      "[0 1] count: 1\n",
      "[0 1] count: 1\n",
      "[0 1] count: 1\n",
      "[0 1] count: 1\n",
      "[0 1] count: 1\n",
      "[0 1] count: 1\n",
      "[0 1] count: 1\n",
      "[0 1] count: 1\n",
      "[0 1] count: 1\n",
      "[0 1] count: 1\n",
      "[0 1] count: 1\n",
      "[0 1] count: 1\n",
      "[0 1] count: 1\n",
      "[0 1] count: 1\n",
      "[0 1] count: 1\n",
      "[0 1] count: 1\n",
      "[0 1] count: 1\n",
      "[0 1] count: 1\n",
      "[0 1] count: 1\n",
      "[0 1] count: 1\n",
      "[0 1] count: 1\n",
      "[0 1] count: 1\n"
     ]
    }
   ],
   "source": [
    "img_size = 224\n",
    "\n",
    "images = []\n",
    "labels = []\n",
    "count = 0\n",
    "\n",
    "for types in room_types:\n",
    "    data_path = data_dir + '/' + types\n",
    "    filenames = [i for i in os.listdir(data_path)]\n",
    "    \n",
    "    for f in filenames:\n",
    "        img = cv2.imread(data_path + '/' + f)\n",
    "        \n",
    "        img = cv2.resize(img, (img_size, img_size))\n",
    "        images.append(img)\n",
    "        \n",
    "        temp_lb = np.zeros(classes)\n",
    "        temp_lb[count] = 1\n",
    "        temp_lb = temp_lb.astype('int32')\n",
    "        print(temp_lb, 'count:',count)\n",
    "        \n",
    "        labels.append(temp_lb)\n",
    "    \n",
    "    count = count + 1\n"
   ]
  },
  {
   "cell_type": "code",
   "execution_count": 68,
   "metadata": {},
   "outputs": [
    {
     "data": {
      "text/plain": [
       "(192, 2)"
      ]
     },
     "execution_count": 68,
     "metadata": {},
     "output_type": "execute_result"
    }
   ],
   "source": [
    "labels = np.array(labels)\n",
    "\n"
   ]
  },
  {
   "cell_type": "code",
   "execution_count": 19,
   "metadata": {},
   "outputs": [
    {
     "data": {
      "text/plain": [
       "(192, 224, 224, 3)"
      ]
     },
     "execution_count": 19,
     "metadata": {},
     "output_type": "execute_result"
    }
   ],
   "source": [
    "# Transform the image array to  a numpy array\n",
    "\n",
    "images = np.array(images)\n",
    "images.shape"
   ]
  },
  {
   "cell_type": "code",
   "execution_count": 20,
   "metadata": {},
   "outputs": [],
   "source": [
    "# Normalize the image\n",
    "images = images.astype('float32') / 255.0"
   ]
  },
  {
   "cell_type": "code",
   "execution_count": 42,
   "metadata": {},
   "outputs": [
    {
     "ename": "TypeError",
     "evalue": "__init__() got an unexpected keyword argument 'categorical_features'",
     "output_type": "error",
     "traceback": [
      "\u001b[1;31m---------------------------------------------------------------------------\u001b[0m",
      "\u001b[1;31mTypeError\u001b[0m                                 Traceback (most recent call last)",
      "\u001b[1;32m<ipython-input-42-0c7e23de49cd>\u001b[0m in \u001b[0;36m<module>\u001b[1;34m\u001b[0m\n\u001b[0;32m     13\u001b[0m \u001b[1;33m\u001b[0m\u001b[0m\n\u001b[0;32m     14\u001b[0m \u001b[1;31m# perform one-hot encoding\u001b[0m\u001b[1;33m\u001b[0m\u001b[1;33m\u001b[0m\u001b[1;33m\u001b[0m\u001b[0m\n\u001b[1;32m---> 15\u001b[1;33m \u001b[0monehotencoder\u001b[0m \u001b[1;33m=\u001b[0m \u001b[0mOneHotEncoder\u001b[0m\u001b[1;33m(\u001b[0m\u001b[0mcategorical_features\u001b[0m\u001b[1;33m=\u001b[0m\u001b[1;33m[\u001b[0m\u001b[1;36m0\u001b[0m\u001b[1;33m]\u001b[0m\u001b[1;33m)\u001b[0m\u001b[1;33m\u001b[0m\u001b[1;33m\u001b[0m\u001b[0m\n\u001b[0m\u001b[0;32m     16\u001b[0m \u001b[0mY\u001b[0m \u001b[1;33m=\u001b[0m \u001b[0monehotencoder\u001b[0m\u001b[1;33m.\u001b[0m\u001b[0mfit_transform\u001b[0m\u001b[1;33m(\u001b[0m\u001b[0my\u001b[0m\u001b[1;33m)\u001b[0m\u001b[1;33m\u001b[0m\u001b[1;33m\u001b[0m\u001b[0m\n\u001b[0;32m     17\u001b[0m \u001b[0mY\u001b[0m\u001b[1;33m.\u001b[0m\u001b[0mshape\u001b[0m\u001b[1;33m\u001b[0m\u001b[1;33m\u001b[0m\u001b[0m\n",
      "\u001b[1;32m~\\Anaconda3\\envs\\jarvis\\lib\\site-packages\\sklearn\\utils\\validation.py\u001b[0m in \u001b[0;36minner_f\u001b[1;34m(*args, **kwargs)\u001b[0m\n\u001b[0;32m     70\u001b[0m                           FutureWarning)\n\u001b[0;32m     71\u001b[0m         \u001b[0mkwargs\u001b[0m\u001b[1;33m.\u001b[0m\u001b[0mupdate\u001b[0m\u001b[1;33m(\u001b[0m\u001b[1;33m{\u001b[0m\u001b[0mk\u001b[0m\u001b[1;33m:\u001b[0m \u001b[0marg\u001b[0m \u001b[1;32mfor\u001b[0m \u001b[0mk\u001b[0m\u001b[1;33m,\u001b[0m \u001b[0marg\u001b[0m \u001b[1;32min\u001b[0m \u001b[0mzip\u001b[0m\u001b[1;33m(\u001b[0m\u001b[0msig\u001b[0m\u001b[1;33m.\u001b[0m\u001b[0mparameters\u001b[0m\u001b[1;33m,\u001b[0m \u001b[0margs\u001b[0m\u001b[1;33m)\u001b[0m\u001b[1;33m}\u001b[0m\u001b[1;33m)\u001b[0m\u001b[1;33m\u001b[0m\u001b[1;33m\u001b[0m\u001b[0m\n\u001b[1;32m---> 72\u001b[1;33m         \u001b[1;32mreturn\u001b[0m \u001b[0mf\u001b[0m\u001b[1;33m(\u001b[0m\u001b[1;33m**\u001b[0m\u001b[0mkwargs\u001b[0m\u001b[1;33m)\u001b[0m\u001b[1;33m\u001b[0m\u001b[1;33m\u001b[0m\u001b[0m\n\u001b[0m\u001b[0;32m     73\u001b[0m     \u001b[1;32mreturn\u001b[0m \u001b[0minner_f\u001b[0m\u001b[1;33m\u001b[0m\u001b[1;33m\u001b[0m\u001b[0m\n\u001b[0;32m     74\u001b[0m \u001b[1;33m\u001b[0m\u001b[0m\n",
      "\u001b[1;31mTypeError\u001b[0m: __init__() got an unexpected keyword argument 'categorical_features'"
     ]
    }
   ],
   "source": [
    "# convert the labels in one-hot encoding\n",
    "\n",
    "from sklearn.preprocessing import LabelEncoder, OneHotEncoder\n",
    "\n",
    "y = rooms_df['room_type'].values\n",
    "\n",
    "# converting the class type from string to scaler\n",
    "y_labelEncoder = LabelEncoder()\n",
    "y = y_labelEncoder.fit_transform(y)\n",
    "\n",
    "# converting the 1D array to 2D array\n",
    "y = y.reshape(-1, 1)\n",
    "\n",
    "# perform one-hot encoding\n",
    "onehotencoder = OneHotEncoder(categorical_features=[0])\n",
    "Y = onehotencoder.fit_transform(y)\n",
    "Y.shape"
   ]
  },
  {
   "cell_type": "code",
   "execution_count": null,
   "metadata": {},
   "outputs": [],
   "source": []
  }
 ],
 "metadata": {
  "kernelspec": {
   "display_name": "Python 3",
   "language": "python",
   "name": "python3"
  },
  "language_info": {
   "codemirror_mode": {
    "name": "ipython",
    "version": 3
   },
   "file_extension": ".py",
   "mimetype": "text/x-python",
   "name": "python",
   "nbconvert_exporter": "python",
   "pygments_lexer": "ipython3",
   "version": "3.7.7"
  }
 },
 "nbformat": 4,
 "nbformat_minor": 4
}
