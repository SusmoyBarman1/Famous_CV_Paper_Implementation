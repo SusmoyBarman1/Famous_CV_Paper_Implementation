{
 "cells": [
  {
   "cell_type": "code",
   "execution_count": 2,
   "metadata": {},
   "outputs": [],
   "source": [
    "import numpy as np\n",
    "import pandas as pd\n",
    "import matplotlib.pyplot as plt\n",
    "import os"
   ]
  },
  {
   "cell_type": "code",
   "execution_count": 9,
   "metadata": {},
   "outputs": [
    {
     "name": "stdout",
     "output_type": "stream",
     "text": [
      "['clean', 'messy']\n",
      "Types of room: 2\n"
     ]
    }
   ],
   "source": [
    "data_dir = 'data/train'\n",
    "\n",
    "room_types = os.listdir(data_dir)\n",
    "print(room_types)\n",
    "print('Types of room:', len(room_types))"
   ]
  },
  {
   "cell_type": "code",
   "execution_count": 20,
   "metadata": {},
   "outputs": [],
   "source": [
    "rooms = []\n",
    "\n",
    "for types in room_types:\n",
    "    #print(f'\\nWorking on {types} directory....\\n')\n",
    "    all_rooms = os.listdir(data_dir + '/' + types)\n",
    "    \n",
    "    for room in all_rooms:\n",
    "        pic_name = str(data_dir+ '/' + types) + '/' + room\n",
    "        #print(f'Photo is:- {pic_name}')\n",
    "        rooms.append((types, pic_name))\n",
    "\n",
    "#rooms"
   ]
  },
  {
   "cell_type": "code",
   "execution_count": 21,
   "metadata": {},
   "outputs": [
    {
     "name": "stdout",
     "output_type": "stream",
     "text": [
      "192\n"
     ]
    }
   ],
   "source": [
    "print(len(rooms))"
   ]
  },
  {
   "cell_type": "code",
   "execution_count": 27,
   "metadata": {},
   "outputs": [
    {
     "name": "stdout",
     "output_type": "stream",
     "text": [
      "  room_type                    image\n",
      "0     clean   data/train/clean/0.png\n",
      "1     clean   data/train/clean/1.png\n",
      "2     clean  data/train/clean/10.png\n",
      "3     clean  data/train/clean/11.png\n",
      "4     clean  data/train/clean/12.png\n",
      "\n",
      "\n",
      "    room_type                    image\n",
      "187     messy  data/train/messy/91.png\n",
      "188     messy  data/train/messy/92.png\n",
      "189     messy  data/train/messy/93.png\n",
      "190     messy  data/train/messy/94.png\n",
      "191     messy  data/train/messy/95.png\n"
     ]
    }
   ],
   "source": [
    "# Build a dataframe\n",
    "\n",
    "rooms_df = pd.DataFrame(data = rooms, columns=['room_type', 'image'])\n",
    "print(rooms_df.head())\n",
    "print('\\n')\n",
    "print(rooms_df.tail())"
   ]
  },
  {
   "cell_type": "code",
   "execution_count": 29,
   "metadata": {},
   "outputs": [
    {
     "name": "stdout",
     "output_type": "stream",
     "text": [
      "\n",
      "Total number of rooms: 192 \n",
      "\n",
      "\n",
      "Rooms in each Category:-\n",
      "\n",
      "clean    96\n",
      "messy    96\n",
      "Name: room_type, dtype: int64\n"
     ]
    }
   ],
   "source": [
    "# Recheck data size\n",
    "print(f'\\nTotal number of rooms: {len(rooms_df)} \\n')\n",
    "\n",
    "room_count = rooms_df['room_type'].value_counts()\n",
    "\n",
    "print('\\nRooms in each Category:-\\n')\n",
    "print(room_count)"
   ]
  },
  {
   "cell_type": "code",
   "execution_count": null,
   "metadata": {},
   "outputs": [],
   "source": []
  }
 ],
 "metadata": {
  "kernelspec": {
   "display_name": "Python 3",
   "language": "python",
   "name": "python3"
  },
  "language_info": {
   "codemirror_mode": {
    "name": "ipython",
    "version": 3
   },
   "file_extension": ".py",
   "mimetype": "text/x-python",
   "name": "python",
   "nbconvert_exporter": "python",
   "pygments_lexer": "ipython3",
   "version": "3.7.7"
  }
 },
 "nbformat": 4,
 "nbformat_minor": 4
}
