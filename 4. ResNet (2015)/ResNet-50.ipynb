{
 "cells": [
  {
   "cell_type": "code",
   "execution_count": 1,
   "metadata": {},
   "outputs": [],
   "source": [
    "import numpy as np\n",
    "import pandas as pd\n",
    "import matplotlib.pyplot as plt\n",
    "import os"
   ]
  },
  {
   "cell_type": "code",
   "execution_count": 2,
   "metadata": {},
   "outputs": [
    {
     "name": "stdout",
     "output_type": "stream",
     "text": [
      "['clean', 'messy']\n",
      "Types of room: 2\n"
     ]
    }
   ],
   "source": [
    "data_dir = 'data/train'\n",
    "\n",
    "room_types = os.listdir(data_dir)\n",
    "print(room_types)\n",
    "print('Types of room:', len(room_types))"
   ]
  },
  {
   "cell_type": "code",
   "execution_count": 3,
   "metadata": {},
   "outputs": [],
   "source": [
    "rooms = []\n",
    "\n",
    "for types in room_types:\n",
    "    #print(f'\\nWorking on {types} directory....\\n')\n",
    "    all_rooms = os.listdir(data_dir + '/' + types)\n",
    "    \n",
    "    for room in all_rooms:\n",
    "        pic_name = str(data_dir+ '/' + types) + '/' + room\n",
    "        #print(f'Photo is:- {pic_name}')\n",
    "        rooms.append((types, pic_name))\n",
    "\n",
    "#rooms"
   ]
  },
  {
   "cell_type": "code",
   "execution_count": 4,
   "metadata": {},
   "outputs": [
    {
     "name": "stdout",
     "output_type": "stream",
     "text": [
      "192\n"
     ]
    }
   ],
   "source": [
    "print(len(rooms))"
   ]
  },
  {
   "cell_type": "code",
   "execution_count": 5,
   "metadata": {},
   "outputs": [
    {
     "name": "stdout",
     "output_type": "stream",
     "text": [
      "  room_type                    image\n",
      "0     clean   data/train/clean/0.png\n",
      "1     clean   data/train/clean/1.png\n",
      "2     clean  data/train/clean/10.png\n",
      "3     clean  data/train/clean/11.png\n",
      "4     clean  data/train/clean/12.png\n",
      "\n",
      "\n",
      "    room_type                    image\n",
      "187     messy  data/train/messy/91.png\n",
      "188     messy  data/train/messy/92.png\n",
      "189     messy  data/train/messy/93.png\n",
      "190     messy  data/train/messy/94.png\n",
      "191     messy  data/train/messy/95.png\n"
     ]
    }
   ],
   "source": [
    "# Build a dataframe\n",
    "\n",
    "rooms_df = pd.DataFrame(data = rooms, columns=['room_type', 'image'])\n",
    "print(rooms_df.head())\n",
    "print('\\n')\n",
    "print(rooms_df.tail())"
   ]
  },
  {
   "cell_type": "code",
   "execution_count": 6,
   "metadata": {},
   "outputs": [
    {
     "name": "stdout",
     "output_type": "stream",
     "text": [
      "\n",
      "Total number of rooms: 192 \n",
      "\n",
      "\n",
      "Rooms in each Category:-\n",
      "\n",
      "clean    96\n",
      "messy    96\n",
      "Name: room_type, dtype: int64\n"
     ]
    }
   ],
   "source": [
    "# Recheck data size\n",
    "print(f'\\nTotal number of rooms: {len(rooms_df)} \\n')\n",
    "\n",
    "room_count = rooms_df['room_type'].value_counts()\n",
    "\n",
    "print('\\nRooms in each Category:-\\n')\n",
    "print(room_count)"
   ]
  },
  {
   "cell_type": "code",
   "execution_count": 7,
   "metadata": {},
   "outputs": [],
   "source": [
    "import cv2"
   ]
  },
  {
   "cell_type": "code",
   "execution_count": 32,
   "metadata": {},
   "outputs": [],
   "source": [
    "'''total_room = len(rooms_df)\n",
    "classes = len(room_types)'''\n",
    "#print(f'({total_room}, {classes})\n",
    "\n",
    "'''\n",
    "Class Labels:\n",
    "\n",
    "{0: 'Clean'\n",
    " 1: 'Messy'}\n",
    "'''\n",
    "\n",
    "def prepare_data(room_types, data_paths, img_size=224):\n",
    "    \n",
    "    classes = len(room_types)\n",
    "    trainX = []\n",
    "    trainY = []\n",
    "    count = 0\n",
    "\n",
    "    for types in room_types:\n",
    "        data_path = data_paths + '/' + types\n",
    "        filenames = [i for i in os.listdir(data_path)]\n",
    "\n",
    "        for f in filenames:\n",
    "            img = cv2.imread(data_path + '/' + f)\n",
    "\n",
    "            img = cv2.resize(img, (img_size, img_size))\n",
    "            trainX.append(img)\n",
    "\n",
    "            temp_lb = np.zeros(classes)\n",
    "            temp_lb[count] = 1\n",
    "            temp_lb = temp_lb.astype('int32')\n",
    "            #print(temp_lb, 'count:',count)\n",
    "\n",
    "            trainY.append(temp_lb)\n",
    "\n",
    "        count = count + 1\n",
    "\n",
    "\n",
    "    trainY = np.array(trainY)\n",
    "\n",
    "    # Transform the image array to  a numpy array\n",
    "    trainX = np.array(trainX)\n",
    "\n",
    "    # Normalize the image\n",
    "    trainX = trainX.astype('float32') / 255.0\n",
    "    \n",
    "    return trainX, trainY"
   ]
  },
  {
   "cell_type": "code",
   "execution_count": 33,
   "metadata": {},
   "outputs": [
    {
     "name": "stdout",
     "output_type": "stream",
     "text": [
      "['clean', 'messy']\n",
      "Training Shape:  (192, 224, 224, 3) (192, 2)\n",
      "Testing shape:  (20, 224, 224, 3) (20, 2)\n"
     ]
    }
   ],
   "source": [
    "print(room_types)\n",
    "\n",
    "train_data_path = 'data/train'\n",
    "test_data_path = 'data/val'\n",
    "\n",
    "trainX, trainY = prepare_data(room_types, train_data_path)\n",
    "print('Training Shape: ', trainX.shape, trainY.shape)\n",
    "\n",
    "testX, testY = prepare_data(room_types, test_data_path)\n",
    "print('Testing shape: ', testX.shape, testY.shape)"
   ]
  },
  {
   "cell_type": "code",
   "execution_count": null,
   "metadata": {},
   "outputs": [],
   "source": []
  }
 ],
 "metadata": {
  "kernelspec": {
   "display_name": "Python 3",
   "language": "python",
   "name": "python3"
  },
  "language_info": {
   "codemirror_mode": {
    "name": "ipython",
    "version": 3
   },
   "file_extension": ".py",
   "mimetype": "text/x-python",
   "name": "python",
   "nbconvert_exporter": "python",
   "pygments_lexer": "ipython3",
   "version": "3.7.7"
  }
 },
 "nbformat": 4,
 "nbformat_minor": 4
}
